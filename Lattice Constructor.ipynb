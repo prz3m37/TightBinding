{
 "cells": [
  {
   "cell_type": "markdown",
   "metadata": {},
   "source": [
    "## Lattice Constructor "
   ]
  },
  {
   "cell_type": "code",
   "execution_count": 1,
   "metadata": {},
   "outputs": [],
   "source": [
    "import pandas as pd \n",
    "import numpy as np\n",
    "import matplotlib.pyplot as plt "
   ]
  },
  {
   "cell_type": "code",
   "execution_count": 2,
   "metadata": {},
   "outputs": [
    {
     "name": "stdout",
     "output_type": "stream",
     "text": [
      "calculated num of atoms: 251 251 right number of atoms: 251\n"
     ]
    }
   ],
   "source": [
    "a = 154\n",
    "vertical_num_of_steps = 10\n",
    "horizontal_num_of_steps = 125\n",
    "\n",
    "mother_first_row = [[-a * np.sqrt(3)/2, a / 2, 0], [0, a, 0], [a * np.sqrt(3)/2, a / 2, 0]]\n",
    "mother_second_row = [[-a * np.sqrt(3)/2, -a / 2, 0], [0, -a, 0], [a * np.sqrt(3)/2, -a / 2, 0]]\n",
    "\n",
    "mother_first_row = mother_first_row\n",
    "mother_second_row = mother_second_row\n",
    "\n",
    "horizontal_shift = np.array([a * np.sqrt(3), 0, 0])\n",
    "vertical_shift = np.array([0, 3 * a, 0])\n",
    "\n",
    "vertical_steps = int(vertical_num_of_steps)\n",
    "horizontal_steps = int(horizontal_num_of_steps)\n",
    "\n",
    "horizontal_part_first_row = [mother_first_row +(horizontal_step * horizontal_shift)\n",
    "                             for horizontal_step in range(0, horizontal_steps)]\n",
    "\n",
    "horizontal_part_second_row = [mother_second_row + (horizontal_step * horizontal_shift)\n",
    "                              for horizontal_step in range(0, horizontal_steps)]\n",
    "\n",
    "horizontal_part_first_row = np.concatenate(horizontal_part_first_row)\n",
    "to_drop_from_first_row = []\n",
    "for i in range(1, len(horizontal_part_first_row)):\n",
    "    if np.all(np.isclose(horizontal_part_first_row[i],  horizontal_part_first_row[i-1])) == True:\n",
    "        to_drop_from_first_row.append(i)\n",
    "horizontal_part_first_row_unq = np.delete(horizontal_part_first_row, to_drop_from_first_row, 0)\n",
    "\n",
    "\n",
    "horizontal_part_second_row = np.concatenate(horizontal_part_second_row)\n",
    "to_drop_from_second_row = []\n",
    "for i in range(1, len(horizontal_part_second_row)):\n",
    "    if np.all(np.isclose(horizontal_part_second_row[i],  horizontal_part_second_row[i-1])) == True:\n",
    "        to_drop_from_second_row.append(i)\n",
    "horizontal_part_second_row_unq = np.delete(horizontal_part_second_row, to_drop_from_second_row, 0)\n",
    "\n",
    "horizontal_part_first_row_unq = [list(array) for array in horizontal_part_first_row_unq]\n",
    "horizontal_part_second_row_unq = [list(array) for array in horizontal_part_second_row_unq]\n",
    "    \n",
    "# horizontal_part_first_row_unq = {array.tostring(): list((array))\n",
    "#                                  for array in np.concatenate(horizontal_part_first_row)}\n",
    "# horizontal_part_first_row_unq = list(horizontal_part_first_row_unq.values())\n",
    "\n",
    "# horizontal_part_second_row = [mother_second_row + (horizontal_step * horizontal_shift)\n",
    "#                               for horizontal_step in range(0, horizontal_steps)]\n",
    "\n",
    "# horizontal_part_second_row_unq = {array.tostring(): list(array)\n",
    "#                                   for array in np.concatenate(horizontal_part_second_row)}\n",
    "# horizontal_part_second_row_unq = list(horizontal_part_second_row_unq.values())\n",
    "\n",
    "print('calculated num of atoms:',len(horizontal_part_second_row_unq), len(horizontal_part_first_row_unq),\n",
    "      'right number of atoms:', (3 + (horizontal_num_of_steps-1) * 2))"
   ]
  },
  {
   "cell_type": "code",
   "execution_count": null,
   "metadata": {},
   "outputs": [],
   "source": [
    "horizontal_part_second_row_unq"
   ]
  },
  {
   "cell_type": "code",
   "execution_count": null,
   "metadata": {},
   "outputs": [],
   "source": [
    "# print('calculated num of atoms:',len(horizontal_part_second_row_unq),\n",
    "#       'right number of atoms:', (3 + (horizontal_num_of_steps-1) * 2))"
   ]
  },
  {
   "cell_type": "code",
   "execution_count": null,
   "metadata": {},
   "outputs": [],
   "source": [
    "lattice = horizontal_part_first_row_unq + horizontal_part_second_row_unq\n",
    "x = []\n",
    "y = []\n",
    "for i in lattice:\n",
    "    x.append(i[0])\n",
    "    y.append(i[1])\n",
    "\n",
    "plt.figure(figsize=(8,5))\n",
    "plt.scatter(x,y)"
   ]
  },
  {
   "cell_type": "code",
   "execution_count": null,
   "metadata": {},
   "outputs": [],
   "source": []
  },
  {
   "cell_type": "code",
   "execution_count": null,
   "metadata": {},
   "outputs": [],
   "source": []
  }
 ],
 "metadata": {
  "kernelspec": {
   "display_name": "Python 3",
   "language": "python",
   "name": "python3"
  },
  "language_info": {
   "codemirror_mode": {
    "name": "ipython",
    "version": 3
   },
   "file_extension": ".py",
   "mimetype": "text/x-python",
   "name": "python",
   "nbconvert_exporter": "python",
   "pygments_lexer": "ipython3",
   "version": "3.6.5"
  }
 },
 "nbformat": 4,
 "nbformat_minor": 2
}
